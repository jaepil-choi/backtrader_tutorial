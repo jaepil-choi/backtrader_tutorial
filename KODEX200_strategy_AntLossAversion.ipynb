{
 "cells": [
  {
   "cell_type": "markdown",
   "metadata": {},
   "source": [
    "# 개미 투자자의 손실회피 성향을 이용한 전략"
   ]
  },
  {
   "cell_type": "code",
   "execution_count": 2,
   "metadata": {},
   "outputs": [],
   "source": [
    "# %matplotlib inline \n",
    "\n",
    "# %matplotlib ipympl\n",
    "# %matplotlib widget"
   ]
  },
  {
   "cell_type": "code",
   "execution_count": 1,
   "metadata": {},
   "outputs": [],
   "source": [
    "from __future__ import (absolute_import, division, print_function, unicode_literals)\n",
    "\n",
    "import datetime  # For datetime objects\n",
    "import os.path  # To manage paths\n",
    "import sys  # To find out the script name (in argv[0])\n",
    "\n",
    "# Import the backtrader platform\n",
    "import backtrader as bt\n",
    "\n",
    "import pandas as pd\n",
    "import pandas_datareader.data as web\n",
    "import matplotlib.pyplot as plt"
   ]
  },
  {
   "cell_type": "markdown",
   "metadata": {},
   "source": [
    "아이디어: \n",
    "\n",
    "개미 투자자 전체의 코스피, 코스닥 투자 시점과 규모를 알 수 있다. 즉, 거래량을 어느 정도 세분할 수 있다. \n",
    "\n",
    "그렇다면, 개미 투자자가 많이 몰렸을 때 (그것이 추세의 어느 곳에 위치하든 간에) 그 곳을 개인 투자자의 투자시점으로 보고 그 곳에 손실회피 성향으로 인해 기술적분석에서 흔히 말하는 저항선이 생길 수 있지 않을까?\n",
    "\n",
    "특히, 매수 시점 이후 하락했다가 다시 그 지점을 회복할 때 저항선이 강하게 작용하여 (휴, 원금이라도 건져서 다행이다. 주식 다시는 안해야지) 원래 모멘텀을 줄이는 영향이 있지 않을까? \n",
    "\n",
    "기존 모멘텀 전략은 단순히 올랐던 것을 사고 내렸던것을 팔고 이런다. 즉, 포트폴리오에 적용된다. 하지만 개별 종목에도 모멘텀이 존재하지 않을까? 특히 분봉과 같이 짧은 인터벌 일 경우에는.... "
   ]
  },
  {
   "cell_type": "code",
   "execution_count": null,
   "metadata": {},
   "outputs": [],
   "source": []
  }
 ],
 "metadata": {
  "kernelspec": {
   "display_name": "Python 3",
   "language": "python",
   "name": "python3"
  },
  "language_info": {
   "codemirror_mode": {
    "name": "ipython",
    "version": 3
   },
   "file_extension": ".py",
   "mimetype": "text/x-python",
   "name": "python",
   "nbconvert_exporter": "python",
   "pygments_lexer": "ipython3",
   "version": "3.7.6"
  }
 },
 "nbformat": 4,
 "nbformat_minor": 4
}
